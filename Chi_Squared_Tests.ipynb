{
  "nbformat": 4,
  "nbformat_minor": 0,
  "metadata": {
    "colab": {
      "name": "Chi-Squared Tests",
      "private_outputs": true,
      "provenance": [],
      "collapsed_sections": [],
      "authorship_tag": "ABX9TyMXpirTuIKr0EFnsJXzGyR2",
      "include_colab_link": true
    },
    "kernelspec": {
      "name": "python3",
      "display_name": "Python 3"
    },
    "language_info": {
      "name": "python"
    }
  },
  "cells": [
    {
      "cell_type": "markdown",
      "metadata": {
        "id": "view-in-github",
        "colab_type": "text"
      },
      "source": [
        "<a href=\"https://colab.research.google.com/github/dilaraesmer/hypothesis_testing/blob/main/Chi_Squared_Tests.ipynb\" target=\"_parent\"><img src=\"https://colab.research.google.com/assets/colab-badge.svg\" alt=\"Open In Colab\"/></a>"
      ]
    },
    {
      "cell_type": "code",
      "execution_count": null,
      "metadata": {
        "id": "whQ_5R3BcP8q"
      },
      "outputs": [],
      "source": [
        "import numpy as np\n",
        "import pandas as pd\n",
        "import scipy.stats as stats"
      ]
    },
    {
      "cell_type": "code",
      "source": [
        "national = pd.DataFrame([\"white\"]*100000 + [\"hispanic\"]*60000 +\\\n",
        "                        [\"black\"]*50000 + [\"asian\"]*15000 + [\"other\"]*35000)\n",
        "\n",
        "minnesota = pd.DataFrame([\"white\"]*600 + [\"hispanic\"]*300 +\\\n",
        "                        [\"black\"]*250 + [\"asian\"]*75 + [\"other\"]*150)\n"
      ],
      "metadata": {
        "id": "sQRL9ydGU2dE"
      },
      "execution_count": null,
      "outputs": []
    },
    {
      "cell_type": "code",
      "source": [
        "national_table = pd.crosstab(index = national[0], columns = \"count\")\n",
        "minnesota_table = pd.crosstab(index = minnesota[0], columns = \"count\")"
      ],
      "metadata": {
        "id": "mDkmvDQpWe9G"
      },
      "execution_count": null,
      "outputs": []
    },
    {
      "cell_type": "code",
      "source": [
        "print(\"National\")\n",
        "print(national_table)\n",
        "print(\" \")\n",
        "print( \"Minnesota\" )\n",
        "print(minnesota_table)"
      ],
      "metadata": {
        "id": "vWHlUKkCg5ML"
      },
      "execution_count": null,
      "outputs": []
    },
    {
      "cell_type": "code",
      "source": [
        "observed = minnesota_table\n",
        "national_ratios = national_table/len(national) # Get poplation ratios\n",
        "print(national_ratios)\n",
        "expected = national_ratios * len(minnesota) # Get expected counts\n",
        "chi_squared_stat = (((observed-expected)**2)/expected).sum()\n",
        "print(chi_squared_stat)"
      ],
      "metadata": {
        "id": "7MY-fQBKkC94"
      },
      "execution_count": null,
      "outputs": []
    },
    {
      "cell_type": "markdown",
      "source": [
        "The len() function returns the number of items in an object.\n",
        "\n",
        "When the object is a string, the len() function returns the number of characters in the string."
      ],
      "metadata": {
        "id": "sE-xJSHPdoTr"
      }
    },
    {
      "cell_type": "code",
      "source": [
        "crit = stats.chi2.ppf(q = 0.95, # Find the critical value for 95% confidence*\n",
        "                      df = 4)   # Df = number of variable categories - 1\n",
        "\n",
        "print(\"Critical value\")\n",
        "print(crit)\n",
        "\n",
        "p_value = 1 - stats.chi2.cdf(x = chi_squared_stat, # Find the p value\n",
        "                             df = 4)\n",
        "\n",
        "print(\"P value\")\n",
        "print(p_value)"
      ],
      "metadata": {
        "id": "yj-JaBMxduhQ"
      },
      "execution_count": null,
      "outputs": []
    },
    {
      "cell_type": "markdown",
      "source": [
        "Interpretation :\n",
        "We can see that the critical chi-squared value is 9.49 well the one we found 18 that's a lot bigger than that so this will be significant at the 5% level and p-value is 0.001 so that's pretty small p-value. It's even significant at the 1% level so it can be pretty confident that the distribution of counts across those categories, is actually different for the minnesota sample than it was for the population so in this case since our chi-squared statistic exceeds the critical value and the p value is low. We'd reject the null hypothesis that the two distributions are the same and accept the alternative hypothesis that they are actually different. "
      ],
      "metadata": {
        "id": "7jGR8T2ppg7Z"
      }
    },
    {
      "cell_type": "code",
      "source": [
        "stats.chisquare(f_obs = observed, # Array of observed counts \n",
        "                f_exp = expected) # Array of expected counts "
      ],
      "metadata": {
        "id": "i_8dbfj66Rwv"
      },
      "execution_count": null,
      "outputs": []
    },
    {
      "cell_type": "markdown",
      "source": [
        "The test results agree with the values we calculated above. "
      ],
      "metadata": {
        "id": "LvgJH13ryuHx"
      }
    },
    {
      "cell_type": "markdown",
      "source": [
        "**Chi-Squared Test of Independence**"
      ],
      "metadata": {
        "id": "kr-DdQMLzlCS"
      }
    },
    {
      "cell_type": "markdown",
      "source": [
        "The Chi-Square test of independence is used to determine if there is a significant relationship between two nominal (categorical) variables.  The frequency of each category for one nominal variable is compared across the categories of the second nominal variable.  The data can be displayed in a contingency table where each row represents a category for one variable and each column represents a category for the other variable.  For example, say a researcher wants to examine the relationship between gender (male vs. female) and empathy (high vs. low).  The chi-square test of independence can be used to examine this relationship.  The null hypothesis for this test is that there is no relationship between gender and empathy.  The alternative hypothesis is that there is a relationship between gender and empathy (e.g. there are more high-empathy females than high-empathy males). \n",
        "\n",
        "https://www.statisticssolutions.com/free-resources/directory-of-statistical-analyses/chi-square/"
      ],
      "metadata": {
        "id": "rbCvA1gl1HZC"
      }
    },
    {
      "cell_type": "code",
      "source": [
        "np.random.seed(10)\n",
        "# Sample data randomly at fixed probabilities\n",
        "voter_race = np.random.choice(a = [\"asian\", \"black\", \"hispanic\", \"other\", \"white\"],\n",
        "                              p = [0.05, 0.15, 0.25, 0.05, 0.5],\n",
        "                              size = 1000)"
      ],
      "metadata": {
        "id": "WwnJQZN38ZOn"
      },
      "execution_count": null,
      "outputs": []
    },
    {
      "cell_type": "code",
      "source": [
        "# Sample data randomly at fixed probabilities\n",
        "voter_party = np.random.choice(a = [\"democrat\", \"independent\", \"republican\"],\n",
        "                               p = [0.4, 0.2, 0.4],\n",
        "                               size = 1000)"
      ],
      "metadata": {
        "id": "P9lnQGFW9_MO"
      },
      "execution_count": null,
      "outputs": []
    },
    {
      "cell_type": "code",
      "source": [
        "voters = pd.DataFrame({\"race\" : voter_race,\n",
        "                       \"party\" : voter_party })\n",
        "\n",
        "voter_tab = pd.crosstab(voters.race, voters.party, margins = True)\n",
        "\n",
        "voter_tab.columns = [\"democrat\", \"independent\", \"republican\", \"row_totals\"]\n",
        "\n",
        "voter_tab.index = [\"asian\", \"black\", \"hispanic\", \"other\", \"white\", \"col_totals\"]\n",
        "\n",
        "observed = voter_tab.iloc[0:5,0:3] # Get table without totals for later use\n",
        "\n",
        "voter_tab"
      ],
      "metadata": {
        "id": "Sonb6rQk_e0Z"
      },
      "execution_count": null,
      "outputs": []
    },
    {
      "cell_type": "markdown",
      "source": [
        "You can find detailed information about the np.outer() function from this link.\n",
        "\n",
        "https://www.pythonpool.com/numpy-outer/"
      ],
      "metadata": {
        "id": "EUhuaph49_rm"
      }
    },
    {
      "cell_type": "code",
      "source": [
        "expected = np.outer(voter_tab[\"row_totals\"][0:5],\n",
        "                  voter_tab.loc[\"col_totals\"][0:3]) / 1000\n",
        "\n",
        "expected = pd.DataFrame(expected)\n",
        "\n",
        "expected.columns = [\"democrat\", \"independent\", \"republican\"]\n",
        "expected.index = [\"asian\", \"black\", \"hispanic\", \"other\", \"white\"]\n",
        "\n",
        "expected"
      ],
      "metadata": {
        "id": "wd6heo0l-HFr"
      },
      "execution_count": null,
      "outputs": []
    },
    {
      "cell_type": "code",
      "source": [
        "chi_squared_stat = (((observed-expected)**2)/expected).sum().sum()\n",
        "\n",
        "print(chi_squared_stat)"
      ],
      "metadata": {
        "id": "XKmPrmDxAa-C"
      },
      "execution_count": null,
      "outputs": []
    },
    {
      "cell_type": "code",
      "source": [
        "crit = stats.chi2.ppf(q= 0.95, # Find the critical value for 95% confidence*\n",
        "                      df = 8)\n",
        "\n",
        "print(\"Critical value\")\n",
        "print(crit)\n",
        "\n",
        "p_value = 1 - stats.chi2.cdf(x=chi_squared_stat, # Find the p value \n",
        "                             df=8)\n",
        "\n",
        "print(\"P value\")\n",
        "print(p_value)"
      ],
      "metadata": {
        "id": "lnEJfqJjBMsl"
      },
      "execution_count": null,
      "outputs": []
    },
    {
      "cell_type": "markdown",
      "source": [
        "Note: The degrees of freedom for a test of independence equals the product of the number of categories in each variable minus 1. In this case we have a *5x3* table so df *= 4x2 = 8*.\n",
        "\n",
        "As with the goodness-of-fit test, we can use scipy to conduct a test of independence quickly. Use stats.chi2_contingency() function to conduct a test of independence automatically given a frequency table of observed counts:"
      ],
      "metadata": {
        "id": "n-hGsGieDsFV"
      }
    },
    {
      "cell_type": "code",
      "source": [
        "stats.chi2_contingency(observed = observed)"
      ],
      "metadata": {
        "id": "pexR62L6GOEc"
      },
      "execution_count": null,
      "outputs": []
    }
  ]
}